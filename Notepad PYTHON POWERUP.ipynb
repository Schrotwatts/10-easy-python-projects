{
 "cells": [
  {
   "cell_type": "code",
   "execution_count": 2,
   "id": "78acbc22",
   "metadata": {},
   "outputs": [],
   "source": [
    "import tkinter as t"
   ]
  },
  {
   "cell_type": "code",
   "execution_count": 3,
   "id": "c0cb0f10",
   "metadata": {},
   "outputs": [],
   "source": [
    "from tkinter import filedialog, Text"
   ]
  },
  {
   "cell_type": "code",
   "execution_count": 4,
   "id": "17e61fc7",
   "metadata": {},
   "outputs": [],
   "source": [
    "def open_file():\n",
    "    filename=filedialog.askopenfilename() # open a file from computer\n",
    "    if filename:\n",
    "        with open(filename,'r') as f: #read mode\n",
    "            content=f.read()\n",
    "            root.text_widget.delete('1.0',\"end\") # deleting all the content present on screen to display the selected file\n",
    "            root.text_widget.insert(1.0,content) # insert the content from the imported file"
   ]
  },
  {
   "cell_type": "code",
   "execution_count": 5,
   "id": "f988a257",
   "metadata": {},
   "outputs": [],
   "source": [
    "def new_file():\n",
    "    root.text_widget.delete('1.0',\"end\") # deleting all the content present on screen to ope blank new file"
   ]
  },
  {
   "cell_type": "code",
   "execution_count": 6,
   "id": "e84d9c94",
   "metadata": {},
   "outputs": [],
   "source": [
    "def save_file():\n",
    "    filename=filedialog.asksaveasfilename() # save a file in computer\n",
    "    if filename: #when user enters the name\n",
    "        with open(filename,'w') as f: #write mode\n",
    "            f.write(root.text_widget.get('1.0','end'))"
   ]
  },
  {
   "cell_type": "code",
   "execution_count": 7,
   "id": "38f46ff5",
   "metadata": {},
   "outputs": [],
   "source": [
    "# use root.quit a inbuilt function to enable quit option"
   ]
  },
  {
   "cell_type": "code",
   "execution_count": 8,
   "id": "9ac8d403",
   "metadata": {},
   "outputs": [],
   "source": [
    "# CREATE WINDOW\n",
    "root = t.Tk()"
   ]
  },
  {
   "cell_type": "code",
   "execution_count": 9,
   "id": "a25bcb71",
   "metadata": {},
   "outputs": [
    {
     "data": {
      "text/plain": [
       "''"
      ]
     },
     "execution_count": 9,
     "metadata": {},
     "output_type": "execute_result"
    }
   ],
   "source": [
    "root.title(\"Srinidhi Book\")"
   ]
  },
  {
   "cell_type": "code",
   "execution_count": 10,
   "id": "293e1138",
   "metadata": {},
   "outputs": [
    {
     "data": {
      "text/plain": [
       "''"
      ]
     },
     "execution_count": 10,
     "metadata": {},
     "output_type": "execute_result"
    }
   ],
   "source": [
    "root.geometry(\"600x400\") \n",
    "# size of the notepad"
   ]
  },
  {
   "cell_type": "code",
   "execution_count": 11,
   "id": "684b0f44",
   "metadata": {},
   "outputs": [],
   "source": [
    "menubar= t.Menu()\n",
    "filemenu= t.Menu(menubar) # creater file menu"
   ]
  },
  {
   "cell_type": "code",
   "execution_count": 12,
   "id": "14b860c1",
   "metadata": {},
   "outputs": [],
   "source": [
    "filemenu.add_command(label=\"New\", command=new_file)\n",
    "filemenu.add_command(label=\"Open\", command=open_file)\n",
    "filemenu.add_command(label=\"Save\", command=save_file)\n",
    "filemenu.add_command(label=\"Exit\", command=root.quit)\n",
    "\n",
    "root.config(menu=filemenu) \n",
    "# This created the menu bar\n",
    "root.text_widget = Text(root)\n",
    "root.text_widget.pack(expand=True, fill='both')"
   ]
  },
  {
   "cell_type": "code",
   "execution_count": 13,
   "id": "48cb6982",
   "metadata": {},
   "outputs": [],
   "source": [
    "root.mainloop() # the layout is displayed"
   ]
  },
  {
   "cell_type": "code",
   "execution_count": null,
   "id": "a3255370",
   "metadata": {},
   "outputs": [],
   "source": []
  }
 ],
 "metadata": {
  "kernelspec": {
   "display_name": "Python 3 (ipykernel)",
   "language": "python",
   "name": "python3"
  },
  "language_info": {
   "codemirror_mode": {
    "name": "ipython",
    "version": 3
   },
   "file_extension": ".py",
   "mimetype": "text/x-python",
   "name": "python",
   "nbconvert_exporter": "python",
   "pygments_lexer": "ipython3",
   "version": "3.11.5"
  }
 },
 "nbformat": 4,
 "nbformat_minor": 5
}
